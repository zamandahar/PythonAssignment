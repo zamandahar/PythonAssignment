{
 "cells": [
  {
   "cell_type": "code",
   "execution_count": 28,
   "metadata": {},
   "outputs": [
    {
     "name": "stdout",
     "output_type": "stream",
     "text": [
      "**************************ZAMAN DAHAR******************\n",
      "\n",
      "Enter marks of English:\n",
      "3\n",
      "Enter marks of Maths:\n",
      "4\n",
      "Enter marks of Chemistry:\n",
      "4\n",
      "Enter marks of Physics:\n",
      "5\n",
      "Enter marks of Programming:\n",
      "6\n",
      "You are Failed \n",
      "and your percentage is\n",
      "4.4\n"
     ]
    }
   ],
   "source": [
    "print(\"**************************ZAMAN DAHAR******************\\n\");\n",
    "sub1=int(input(\"Enter marks of English:\\n\"))\n",
    "sub2=int(input(\"Enter marks of Maths:\\n\"))\n",
    "sub3=int(input(\"Enter marks of Chemistry:\\n\"))\n",
    "sub4=int(input(\"Enter marks of Physics:\\n\"))\n",
    "sub5=int(input(\"Enter marks of Programming:\\n\"))\n",
    "result =(sub1+sub2+sub3+sub4+sub5)/5;\n",
    "if (result>=90 and result <=100) :\n",
    "    print(\"Your Grade is : A+\\n And your percentage is \");\n",
    "    print(result);\n",
    "elif(result>=80 and result <90):\n",
    "    print(\"Your Grade is : A \\n and your percentage is\");\n",
    "    print(result);\n",
    "elif (result>=70 and result <80):\n",
    "    print(\"Your Grade is : B \\n and your percentage is\");\n",
    "    print(result);\n",
    "elif (result>=60 and result <70):\n",
    "    print(\"Your Grade is : C \\n and your percentage is\");\n",
    "    print(result);\n",
    "elif (result >=50 and result <60):\n",
    "    print(\"Your Grade is : D \\n and your percentage is\");\n",
    "    print(result);\n",
    "else:\n",
    "    print(\"You are Failed \\nand your percentage is\");\n",
    "    print(result)\n",
    "   \n",
    "\n"
   ]
  },
  {
   "cell_type": "code",
   "execution_count": null,
   "metadata": {},
   "outputs": [],
   "source": []
  }
 ],
 "metadata": {
  "kernelspec": {
   "display_name": "Python 3",
   "language": "python",
   "name": "python3"
  }
 },
 "nbformat": 4,
 "nbformat_minor": 2
}
