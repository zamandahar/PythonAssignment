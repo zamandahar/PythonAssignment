{
 "cells": [
  {
   "cell_type": "code",
   "execution_count": 4,
   "metadata": {},
   "outputs": [
    {
     "name": "stdout",
     "output_type": "stream",
     "text": [
      "****************************ZAMAN DAHAR*****************************\n",
      "press any number to find that number on list : 9\n",
      "9\n",
      "9\n",
      "here is the number 9 which are found on random_numberlist\n"
     ]
    }
   ],
   "source": [
    "#Q1\n",
    "print(\"****************************ZAMAN DAHAR*****************************\")\n",
    "random_numbers = [1,2,3,5,2,3,5,6,4,5,7,8,5,4,7,7,5,4,4,4,6,7,8,9,9,3,3,4,5,5,2,5,6,7,3,8,11,22,11] \n",
    "a = int (input(\"press any number to find that number on list : \"))\n",
    "for list in (random_numbers):\n",
    "    if list == a:\n",
    "     print(list)\n",
    "print(\"here is the number\",a, \"which are found on random_numberlist\")\n",
    "\n",
    "\n"
   ]
  },
  {
   "cell_type": "code",
   "execution_count": null,
   "metadata": {},
   "outputs": [],
   "source": [
    "#Q2\n",
    "site_list = (\"www.zframez.com\", \"www.wikipedia.org\", \"www.asp.net\", \"www.abcd.in\")\n",
    "for i in site_list:\n",
    "    print(i.split(\".\")[-1])"
   ]
  },
  {
   "cell_type": "code",
   "execution_count": 1,
   "metadata": {},
   "outputs": [
    {
     "name": "stdout",
     "output_type": "stream",
     "text": [
      "enter a no to find factorial : 5\n",
      "factorial of 5 is 120\n"
     ]
    }
   ],
   "source": [
    "#Q3\n",
    "fact =1\n",
    "f = int (input(\"enter a no to find factorial : \"))\n",
    "\n",
    "for i in range(1,f+1):\n",
    " fact = fact * i\n",
    "print(\"factorial of\",f, \"is\" ,fact)\n",
    "\n"
   ]
  },
  {
   "cell_type": "code",
   "execution_count": 16,
   "metadata": {},
   "outputs": [
    {
     "name": "stdout",
     "output_type": "stream",
     "text": [
      "affan hello brother! welcome to dinner\n",
      "adnan hello brother! welcome to dinner\n",
      "saeed hello brother! welcome to dinner\n",
      "iqraz hello brother! welcome to dinner\n",
      "oh! i heard that saeed  is not coming\n",
      "ahmed ! hey man welcome to beautiful dinner\n",
      "gulzar ! hey man welcome to beautiful dinner\n",
      "saeed ! hey man welcome to beautiful dinner\n",
      "ramzan ! hey man welcome to beautiful dinner\n",
      "hussain ! hey man welcome to beautiful dinner\n",
      "hello everyone i found a bigger table\n",
      "wahid welcome enjoy your beautiful evening\n",
      "ahmed welcome enjoy your beautiful evening\n",
      "gulzar welcome enjoy your beautiful evening\n",
      "sohail welcome enjoy your beautiful evening\n",
      "saeed welcome enjoy your beautiful evening\n",
      "ramzan welcome enjoy your beautiful evening\n",
      "hussain welcome enjoy your beautiful evening\n",
      "muzzamil welcome enjoy your beautiful evening\n"
     ]
    }
   ],
   "source": [
    "#Q4A\n",
    "my_guests = [\"affan\",\"adnan\",\"saeed\",\"iqraz\"]\n",
    "my_msg = [\"hello brother! welcome to dinner\"]\n",
    "my_msg_to_new_guest = [\"hey man welcome to beautiful dinner\"]\n",
    "last_msg = [\"welcome enjoy your beautiful evening\"]\n",
    "for list_guest in(my_guests):\n",
    " for welcom_msg in(my_msg):\n",
    "    print(list_guest,welcom_msg)\n",
    "#Q4B\n",
    "print(\"oh! i heard that\",my_guests[2],\" is not coming\")\n",
    "new_guests =[\"ahmed\",\"gulzar\",\"ramzan\",\"hussain\"]\n",
    "new_guests.insert(2,my_guests.pop(2)) \n",
    "for new_guest in(new_guests):\n",
    " for new_guest_msg in (my_msg_to_new_guest):\n",
    "    print(new_guest,\"!\",new_guest_msg)\n",
    "#Q4C\n",
    "print(\"hello everyone i found a bigger table\")\n",
    "new_guests.insert(0,\"wahid\")\n",
    "new_guests.insert(3,\"sohail\")\n",
    "new_guests.append(\"muzzamil\")\n",
    "for final_guest in(new_guests):\n",
    " for new_final_guest_msg in (last_msg):\n",
    "    print(final_guest,new_final_guest_msg)\n",
    " "
   ]
  },
  {
   "cell_type": "code",
   "execution_count": 3,
   "metadata": {},
   "outputs": [
    {
     "name": "stdout",
     "output_type": "stream",
     "text": [
      "['Rehman', 'toba', 'Yaseen']\n",
      "3\n"
     ]
    }
   ],
   "source": [
    "#Q5\n",
    "Surah = [\"Rehman\" ,\"toba\" , \"Yaseen\"] \n",
    "print(Surah)\n",
    "\n",
    "print(len(Surah))"
   ]
  },
  {
   "cell_type": "code",
   "execution_count": 35,
   "metadata": {},
   "outputs": [
    {
     "name": "stdout",
     "output_type": "stream",
     "text": [
      "yes it is found at location 1\n"
     ]
    }
   ],
   "source": [
    "#Q6\n",
    "sindh_cities = [\"hyderabad\",\"karachi\",\"larkana\",\"sukkar\",\"khairpur\",\"jamshoro\"]\n",
    "\n",
    "for cities in(sindh_cities):\n",
    " if cities == \"karachi\" :\n",
    "    print(\"yes it is found at location\",sindh_cities.index(\"karachi\"))\n",
    "\n",
    " "
   ]
  },
  {
   "cell_type": "code",
   "execution_count": null,
   "metadata": {},
   "outputs": [],
   "source": []
  }
 ],
 "metadata": {
  "kernelspec": {
   "display_name": "Python 3",
   "language": "python",
   "name": "python3"
  },
  "language_info": {
   "codemirror_mode": {
    "name": "ipython",
    "version": 3
   },
   "file_extension": ".py",
   "mimetype": "text/x-python",
   "name": "python",
   "nbconvert_exporter": "python",
   "pygments_lexer": "ipython3",
   "version": "3.7.3"
  }
 },
 "nbformat": 4,
 "nbformat_minor": 2
}
