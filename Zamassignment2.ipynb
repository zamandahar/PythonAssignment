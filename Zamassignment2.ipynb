{
 "cells": [
  {
   "cell_type": "code",
   "execution_count": 5,
   "metadata": {},
   "outputs": [
    {
     "name": "stdout",
     "output_type": "stream",
     "text": [
      "**********************ZAMAN DAHAR*******************\n",
      "enter no of items you have purchased today!55\n",
      "55.0\n",
      "your total price is $500 as of  55 items Thanks of shopping sir !\n",
      "enter your joining year\t2012\n",
      "enter your current year\t2025\n",
      "congratulation you have a 13 no of services\n",
      "enter temperature in fahrenheit!77\n",
      "temperature in celsius is 25\n",
      "Enter marks of English:\n",
      "22\n",
      "Enter marks of Maths:\n",
      "23\n",
      "Enter marks of Chemistry:\n",
      "44\n",
      "Enter marks of Physics:\n",
      "90\n",
      "Enter marks of Programming:\n",
      "90\n",
      "Your Grade is : D \n",
      " and your percentage is\n",
      "53.8\n"
     ]
    }
   ],
   "source": [
    "print(\"**********************ZAMAN DAHAR*******************\")\n",
    "#Assignment 2 part A\n",
    "no_of_items = float(input(\"enter no of items you have purchased today!\"))\n",
    "print(no_of_items)\n",
    "items = int(no_of_items) #we can say it converts from flaot to int\n",
    "print(\"your total price is $500 as of \",items ,\"items Thanks of shopping sir !\")\n",
    "\n",
    "#Assignment 2 part B\n",
    "join_year = int (input(\"enter your joining year\\t\"))\n",
    "current_year = int (input(\"enter your current year\\t\"))\n",
    "no_of_services =current_year- join_year\n",
    "print(\"congratulation you have a\",no_of_services,\"no of services\")\n",
    "#Assignment 2 part C\n",
    "fahrenheit_temp = int (input(\"enter temperature in fahrenheit!\"))\n",
    "c= int ( (5/9)*(fahrenheit_temp-32) )\n",
    "print(\"temperature in celsius is\",c)\n",
    "#Assignemt 2 part D\n",
    "sub1=int(input(\"Enter marks of English:\\n\"))\n",
    "sub2=int(input(\"Enter marks of Maths:\\n\"))\n",
    "sub3=int(input(\"Enter marks of Chemistry:\\n\"))\n",
    "sub4=int(input(\"Enter marks of Physics:\\n\"))\n",
    "sub5=int(input(\"Enter marks of Programming:\\n\"))\n",
    "result =(sub1+sub2+sub3+sub4+sub5)/5;\n",
    "if result>=90 and result <=100 :\n",
    "    print(\"Your Grade is : A+\\n And your percentage is \");\n",
    "    print(result);\n",
    "elif result>=80 and result <90:\n",
    "    print(\"Your Grade is : A \\n and your percentage is\");\n",
    "    print(result);\n",
    "elif result>=70 and result <80:\n",
    "    print(\"Your Grade is : B \\n and your percentage is\");\n",
    "    print(result);\n",
    "elif result>=60 and result <70:\n",
    "    print(\"Your Grade is : C \\n and your percentage is\");\n",
    "    print(result);\n",
    "elif result >=50 and result <60:\n",
    "    print(\"Your Grade is : D \\n and your percentage is\");\n",
    "    print(result);\n",
    "else:\n",
    "    print(\"You are Failed \\nand your percentage is\");\n",
    "    print(result)\n",
    "   \n",
    "\n",
    "\n"
   ]
  },
  {
   "cell_type": "code",
   "execution_count": null,
   "metadata": {},
   "outputs": [],
   "source": []
  },
  {
   "cell_type": "code",
   "execution_count": null,
   "metadata": {},
   "outputs": [],
   "source": []
  }
 ],
 "metadata": {
  "kernelspec": {
   "display_name": "Python 3",
   "language": "python",
   "name": "python3"
  },
  "language_info": {
   "codemirror_mode": {
    "name": "ipython",
    "version": 3
   },
   "file_extension": ".py",
   "mimetype": "text/x-python",
   "name": "python",
   "nbconvert_exporter": "python",
   "pygments_lexer": "ipython3",
   "version": "3.7.3"
  }
 },
 "nbformat": 4,
 "nbformat_minor": 2
}
